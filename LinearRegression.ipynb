{
 "cells": [
  {
   "cell_type": "markdown",
   "id": "6489f154",
   "metadata": {},
   "source": [
    "# Linear Regression (Weight Prediction based on Height)"
   ]
  },
  {
   "cell_type": "code",
   "execution_count": null,
   "id": "18825b2f",
   "metadata": {},
   "outputs": [],
   "source": [
    "import pandas as pd # importing pandas library\n",
    "import numpy as np  # importing numpy library\n",
    "from matplotlib import pyplot as plt # importing pyplot from matplotlib\n",
    "\n",
    "import warnings as wr # importing warning library\n",
    "wr.filterwarnings('ignore') # to ignore all warning messages"
   ]
  },
  {
   "cell_type": "code",
   "execution_count": 2,
   "id": "b135b55b",
   "metadata": {},
   "outputs": [
    {
     "name": "stdout",
     "output_type": "stream",
     "text": [
      "Requirement already satisfied: gspread in /Users/mdabarik/opt/anaconda3/lib/python3.9/site-packages (5.7.2)\n",
      "Requirement already satisfied: google-auth-oauthlib>=0.4.1 in /Users/mdabarik/opt/anaconda3/lib/python3.9/site-packages (from gspread) (1.0.0)\n",
      "Requirement already satisfied: google-auth>=1.12.0 in /Users/mdabarik/opt/anaconda3/lib/python3.9/site-packages (from gspread) (2.16.0)\n",
      "Requirement already satisfied: cachetools<6.0,>=2.0.0 in /Users/mdabarik/opt/anaconda3/lib/python3.9/site-packages (from google-auth>=1.12.0->gspread) (5.3.0)\n",
      "Requirement already satisfied: rsa<5,>=3.1.4 in /Users/mdabarik/opt/anaconda3/lib/python3.9/site-packages (from google-auth>=1.12.0->gspread) (4.9)\n",
      "Requirement already satisfied: six>=1.9.0 in /Users/mdabarik/opt/anaconda3/lib/python3.9/site-packages (from google-auth>=1.12.0->gspread) (1.16.0)\n",
      "Requirement already satisfied: pyasn1-modules>=0.2.1 in /Users/mdabarik/opt/anaconda3/lib/python3.9/site-packages (from google-auth>=1.12.0->gspread) (0.2.8)\n",
      "Requirement already satisfied: requests-oauthlib>=0.7.0 in /Users/mdabarik/opt/anaconda3/lib/python3.9/site-packages (from google-auth-oauthlib>=0.4.1->gspread) (1.3.1)\n",
      "Requirement already satisfied: pyasn1<0.5.0,>=0.4.6 in /Users/mdabarik/opt/anaconda3/lib/python3.9/site-packages (from pyasn1-modules>=0.2.1->google-auth>=1.12.0->gspread) (0.4.8)\n",
      "Requirement already satisfied: requests>=2.0.0 in /Users/mdabarik/opt/anaconda3/lib/python3.9/site-packages (from requests-oauthlib>=0.7.0->google-auth-oauthlib>=0.4.1->gspread) (2.28.1)\n",
      "Requirement already satisfied: oauthlib>=3.0.0 in /Users/mdabarik/opt/anaconda3/lib/python3.9/site-packages (from requests-oauthlib>=0.7.0->google-auth-oauthlib>=0.4.1->gspread) (3.2.2)\n",
      "Requirement already satisfied: certifi>=2017.4.17 in /Users/mdabarik/opt/anaconda3/lib/python3.9/site-packages (from requests>=2.0.0->requests-oauthlib>=0.7.0->google-auth-oauthlib>=0.4.1->gspread) (2022.9.24)\n",
      "Requirement already satisfied: urllib3<1.27,>=1.21.1 in /Users/mdabarik/opt/anaconda3/lib/python3.9/site-packages (from requests>=2.0.0->requests-oauthlib>=0.7.0->google-auth-oauthlib>=0.4.1->gspread) (1.26.11)\n",
      "Requirement already satisfied: idna<4,>=2.5 in /Users/mdabarik/opt/anaconda3/lib/python3.9/site-packages (from requests>=2.0.0->requests-oauthlib>=0.7.0->google-auth-oauthlib>=0.4.1->gspread) (3.3)\n",
      "Requirement already satisfied: charset-normalizer<3,>=2 in /Users/mdabarik/opt/anaconda3/lib/python3.9/site-packages (from requests>=2.0.0->requests-oauthlib>=0.7.0->google-auth-oauthlib>=0.4.1->gspread) (2.0.4)\n"
     ]
    }
   ],
   "source": [
    "!pip install gspread #installing gspread"
   ]
  },
  {
   "cell_type": "code",
   "execution_count": 9,
   "id": "50ae5760",
   "metadata": {},
   "outputs": [],
   "source": [
    "import gspread # importing gspread\n",
    "gc = gspread.service_account(filename = '/Users/mdabarik/Downloads/TrashBox/aiquestbatch15-77f4c665d393.json') # authentication set up "
   ]
  },
  {
   "cell_type": "code",
   "execution_count": 11,
   "id": "101044df",
   "metadata": {},
   "outputs": [],
   "source": [
    "sheet = gc.open_by_url('https://docs.google.com/spreadsheets/d/1TLrvuueeF0YVtLDvnRFByYm5UY-RJ85E9n-Tj2Ll45k/edit?usp=sharing') # accessing google docs\n",
    "ws = sheet.worksheet(title = 'Height-Weight Data') # the value stored as a matrix"
   ]
  },
  {
   "cell_type": "code",
   "execution_count": 39,
   "id": "dfd0c538",
   "metadata": {},
   "outputs": [],
   "source": [
    "df = pd.DataFrame(ws.get_all_records()) # transforming data into data frame"
   ]
  },
  {
   "cell_type": "code",
   "execution_count": 40,
   "id": "ce2a411c",
   "metadata": {},
   "outputs": [
    {
     "name": "stdout",
     "output_type": "stream",
     "text": [
      "         Height      Weight\n",
      "0     73.847017  241.893563\n",
      "1     68.781904  162.310473\n",
      "2     74.110105  212.740856\n",
      "3     71.730978  220.042470\n",
      "4     69.881796  206.349801\n",
      "...         ...         ...\n",
      "3496  69.296830  185.649086\n",
      "3497  70.542201  210.198845\n",
      "3498  73.912549  202.429960\n",
      "3499  67.396021  144.277671\n",
      "3500  72.738970  187.222909\n",
      "\n",
      "[3501 rows x 2 columns]\n"
     ]
    }
   ],
   "source": [
    "print(df) # printing dataset"
   ]
  },
  {
   "cell_type": "code",
   "execution_count": 41,
   "id": "616fbc1a",
   "metadata": {},
   "outputs": [
    {
     "data": {
      "text/plain": [
       "(3501, 2)"
      ]
     },
     "execution_count": 41,
     "metadata": {},
     "output_type": "execute_result"
    }
   ],
   "source": [
    "df.shape # viewing (rows, cols)"
   ]
  },
  {
   "cell_type": "code",
   "execution_count": 45,
   "id": "9cedebfc",
   "metadata": {},
   "outputs": [],
   "source": [
    "x = df.drop('Height', axis=1) # dropping column 'Height', (axis=1, means column, axis=2, means row)\n",
    "y = df[['Height']] # selecting column 'Weight'"
   ]
  },
  {
   "cell_type": "code",
   "execution_count": 47,
   "id": "209e930c",
   "metadata": {},
   "outputs": [],
   "source": [
    "from sklearn.model_selection import train_test_split # import train_test_split to split data"
   ]
  },
  {
   "cell_type": "code",
   "execution_count": 50,
   "id": "e5b9b979",
   "metadata": {},
   "outputs": [],
   "source": [
    "xtrain, xtest, ytrain, ytest = train_test_split(x, y, test_size = 0.80, random_state = 1) \n",
    "# spliting data by keeping training data 80% and testing data 20% with a same shuffle random_state 1"
   ]
  },
  {
   "cell_type": "code",
   "execution_count": 64,
   "id": "8581321f",
   "metadata": {},
   "outputs": [
    {
     "data": {
      "text/plain": [
       "(          Weight\n",
       " 2342  176.413501\n",
       " 113   178.685546\n",
       " 245   156.869952\n",
       " 1439  204.358875\n",
       " 1022  189.595960\n",
       " ...          ...\n",
       " 2763  186.208566\n",
       " 905   175.093255\n",
       " 1096  224.440459\n",
       " 235   198.460249\n",
       " 1061  192.307027\n",
       " \n",
       " [700 rows x 1 columns],\n",
       "          Height\n",
       " 2342  68.360072\n",
       " 113   69.196858\n",
       " 245   65.498995\n",
       " 1439  68.356165\n",
       " 1022  70.079323\n",
       " ...         ...\n",
       " 2763  68.457061\n",
       " 905   66.539812\n",
       " 1096  75.999957\n",
       " 235   70.555244\n",
       " 1061  70.269360\n",
       " \n",
       " [700 rows x 1 columns])"
      ]
     },
     "execution_count": 64,
     "metadata": {},
     "output_type": "execute_result"
    }
   ],
   "source": [
    "xtrain, ytrain"
   ]
  },
  {
   "cell_type": "markdown",
   "id": "91ce4f0f",
   "metadata": {},
   "source": [
    "# Linear Regression using SKLearn Library"
   ]
  },
  {
   "cell_type": "code",
   "execution_count": 53,
   "id": "6e6fc7bd",
   "metadata": {},
   "outputs": [],
   "source": [
    "from sklearn.linear_model import LinearRegression # importing Linear Regression from sklearn"
   ]
  },
  {
   "cell_type": "code",
   "execution_count": 54,
   "id": "0d8b31a3",
   "metadata": {},
   "outputs": [
    {
     "data": {
      "text/plain": [
       "LinearRegression()"
      ]
     },
     "execution_count": 54,
     "metadata": {},
     "output_type": "execute_result"
    }
   ],
   "source": [
    "model = LinearRegression() # empty model\n",
    "model.fit(xtrain, ytrain) # fitting the model, it will find slope & intercept for best fit line."
   ]
  },
  {
   "cell_type": "code",
   "execution_count": 66,
   "id": "59c70b2a",
   "metadata": {},
   "outputs": [
    {
     "name": "stdout",
     "output_type": "stream",
     "text": [
      "[[69.72147233]\n",
      " [69.08661187]\n",
      " [69.58556201]\n",
      " ...\n",
      " [68.52252869]\n",
      " [69.37294643]\n",
      " [71.25998959]]\n"
     ]
    }
   ],
   "source": [
    "prediction = model.predict(xtest) # predicting on test dataset\n",
    "print(prediction) # printing prediction data"
   ]
  },
  {
   "cell_type": "code",
   "execution_count": 67,
   "id": "aad0b6ed",
   "metadata": {},
   "outputs": [
    {
     "data": {
      "text/plain": [
       "0.7316652424571117"
      ]
     },
     "execution_count": 67,
     "metadata": {},
     "output_type": "execute_result"
    }
   ],
   "source": [
    "model.score(xtest, ytest) # accuracy of our model"
   ]
  },
  {
   "cell_type": "code",
   "execution_count": 69,
   "id": "17c81435",
   "metadata": {},
   "outputs": [
    {
     "data": {
      "text/plain": [
       "Text(0, 0.5, 'Height')"
      ]
     },
     "execution_count": 69,
     "metadata": {},
     "output_type": "execute_result"
    },
    {
     "data": {
      "image/png": "[encoded data removed]",
      "text/plain": [
       "<Figure size 640x480 with 1 Axes>"
      ]
     },
     "metadata": {},
     "output_type": "display_data"
    }
   ],
   "source": [
    "plt.scatter(df['Weight'], df['Height']) # plotting original dataset\n",
    "plt.scatter(xtest, prediction) # prediction against our test dataset\n",
    "plt.plot(xtest, prediction) # plotting our best fit line\n",
    "plt.xlabel('Weight')\n",
    "plt.ylabel('Height')"
   ]
  },
  {
   "cell_type": "code",
   "execution_count": 74,
   "id": "8cc767a5",
   "metadata": {},
   "outputs": [],
   "source": [
    "from sklearn.metrics import mean_squared_error, mean_absolute_error"
   ]
  },
  {
   "cell_type": "code",
   "execution_count": 76,
   "id": "43b35f7e",
   "metadata": {},
   "outputs": [],
   "source": [
    "MSE = mean_squared_error(xtest, prediction)\n",
    "MAE = mean_absolute_error(xtest, prediction)"
   ]
  },
  {
   "cell_type": "code",
   "execution_count": 77,
   "id": "10fb20e8",
   "metadata": {},
   "outputs": [
    {
     "data": {
      "text/plain": [
       "(14212.58718594339, 117.91107214214911)"
      ]
     },
     "execution_count": 77,
     "metadata": {},
     "output_type": "execute_result"
    }
   ],
   "source": [
    "MSE, MAE"
   ]
  }
 ],
 "metadata": {
  "kernelspec": {
   "display_name": "Python 3 (ipykernel)",
   "language": "python",
   "name": "python3"
  },
  "language_info": {
   "codemirror_mode": {
    "name": "ipython",
    "version": 3
   },
   "file_extension": ".py",
   "mimetype": "text/x-python",
   "name": "python",
   "nbconvert_exporter": "python",
   "pygments_lexer": "ipython3",
   "version": "3.9.13"
  }
 },
 "nbformat": 4,
 "nbformat_minor": 5
}
